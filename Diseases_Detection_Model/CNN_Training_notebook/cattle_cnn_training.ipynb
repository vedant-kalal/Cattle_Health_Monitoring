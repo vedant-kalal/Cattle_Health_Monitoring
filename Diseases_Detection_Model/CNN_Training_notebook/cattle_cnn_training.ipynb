{
 "cells": [
  {
   "cell_type": "markdown",
   "id": "cee8ffb3",
   "metadata": {},
   "source": [
    "# Cattle Disease Detection using CNN and Transfer Learning\n",
    "\n",
    "This notebook demonstrates how to classify cattle images into three categories: Mastitis, Lumpy Skin Disease (LSD), and Healthy using a pretrained CNN (ResNet50) with transfer learning. The workflow includes data loading, preprocessing, training, evaluation, inference, and visualization."
   ]
  },
  {
   "cell_type": "code",
   "execution_count": 1,
   "id": "c67a8416",
   "metadata": {
    "ExecuteTime": {
     "end_time": "2025-09-13T11:48:42.637326Z",
     "start_time": "2025-09-13T11:48:32.777461Z"
    }
   },
   "outputs": [
    {
     "name": "stdout",
     "output_type": "stream",
     "text": [
      "Using device: cuda\n",
      "CUDA available: True\n",
      "CUDA device count: 1\n",
      "CUDA device name: NVIDIA GeForce RTX 4060 Laptop GPU\n",
      "torch version: 2.5.1+cu121\n"
     ]
    }
   ],
   "source": [
    "# [1] Imports & Setup\n",
    "import torch\n",
    "import torch.nn as nn\n",
    "import torch.optim as optim\n",
    "from torch.utils.data import DataLoader\n",
    "from torchvision import datasets, transforms, models\n",
    "import numpy as np\n",
    "import matplotlib.pyplot as plt\n",
    "import os\n",
    "from PIL import Image\n",
    "\n",
    "# Set device\n",
    "device = torch.device('cuda' if torch.cuda.is_available() else 'cpu')\n",
    "print(f'Using device: {device}')\n",
    "print('CUDA available:', torch.cuda.is_available())\n",
    "if torch.cuda.is_available():\n",
    "    print('CUDA device count:', torch.cuda.device_count())\n",
    "    print('CUDA device name:', torch.cuda.get_device_name(0))\n",
    "print('torch version:', torch.__version__)\n"
   ]
  },
  {
   "cell_type": "code",
   "execution_count": 3,
   "id": "2fbe376f",
   "metadata": {
    "ExecuteTime": {
     "end_time": "2025-09-13T11:51:56.281654Z",
     "start_time": "2025-09-13T11:51:56.269950Z"
    }
   },
   "outputs": [
    {
     "name": "stdout",
     "output_type": "stream",
     "text": [
      "Classes: ['healthy', 'lsd', 'maltitis']\n"
     ]
    }
   ],
   "source": [
    "# [2] Dataset & DataLoader\n",
    "# Define data directories\n",
    "train_dir = 'C:/Users/HENY/Downloads/SiH2025H/Train-20250913T114441Z-1-001/Train'\n",
    "val_dir = 'C:/Users/HENY/Downloads/SiH2025H/val-20250913T114440Z-1-001/val'\n",
    "\n",
    "# ImageNet mean and std\n",
    "imagenet_mean = [0.485, 0.456, 0.406]\n",
    "imagenet_std = [0.229, 0.224, 0.225]\n",
    "\n",
    "# Data augmentation and transforms\n",
    "train_transforms = transforms.Compose([\n",
    "    transforms.Resize((224, 224)),\n",
    "    transforms.RandomHorizontalFlip(),\n",
    "    transforms.RandomRotation(20),\n",
    "    transforms.ColorJitter(brightness=0.2, contrast=0.2),\n",
    "    transforms.RandomResizedCrop(224, scale=(0.8, 1.0)),\n",
    "    transforms.ToTensor(),\n",
    "    transforms.Normalize(mean=imagenet_mean, std=imagenet_std)\n",
    "])\n",
    "\n",
    "val_transforms = transforms.Compose([\n",
    "    transforms.Resize((224, 224)),\n",
    "    transforms.ToTensor(),\n",
    "    transforms.Normalize(mean=imagenet_mean, std=imagenet_std)\n",
    "])\n",
    "\n",
    "# Load datasets\n",
    "train_dataset = datasets.ImageFolder(train_dir, transform=train_transforms)\n",
    "val_dataset = datasets.ImageFolder(val_dir, transform=val_transforms)\n",
    "\n",
    "# DataLoaders\n",
    "batch_size = 32\n",
    "train_loader = DataLoader(train_dataset, batch_size=batch_size, shuffle=True, num_workers=2)\n",
    "val_loader = DataLoader(val_dataset, batch_size=batch_size, shuffle=False, num_workers=2)\n",
    "\n",
    "# Class names\n",
    "class_names = train_dataset.classes\n",
    "print('Classes:', class_names)"
   ]
  },
  {
   "cell_type": "code",
   "execution_count": 4,
   "id": "545744cd",
   "metadata": {
    "ExecuteTime": {
     "end_time": "2025-09-13T11:52:12.433452Z",
     "start_time": "2025-09-13T11:52:02.325241Z"
    }
   },
   "outputs": [
    {
     "name": "stderr",
     "output_type": "stream",
     "text": [
      "C:\\Users\\HENY\\Downloads\\SiH2025H\\.venv1\\Lib\\site-packages\\torchvision\\models\\_utils.py:208: UserWarning: The parameter 'pretrained' is deprecated since 0.13 and may be removed in the future, please use 'weights' instead.\n",
      "  warnings.warn(\n",
      "C:\\Users\\HENY\\Downloads\\SiH2025H\\.venv1\\Lib\\site-packages\\torchvision\\models\\_utils.py:223: UserWarning: Arguments other than a weight enum or `None` for 'weights' are deprecated since 0.13 and may be removed in the future. The current behavior is equivalent to passing `weights=ResNet50_Weights.IMAGENET1K_V1`. You can also use `weights=ResNet50_Weights.DEFAULT` to get the most up-to-date weights.\n",
      "  warnings.warn(msg)\n",
      "Downloading: \"https://download.pytorch.org/models/resnet50-0676ba61.pth\" to C:\\Users\\HENY/.cache\\torch\\hub\\checkpoints\\resnet50-0676ba61.pth\n",
      "100%|██████████| 97.8M/97.8M [00:09<00:00, 10.9MB/s]\n"
     ]
    },
    {
     "name": "stdout",
     "output_type": "stream",
     "text": [
      "ResNet(\n",
      "  (conv1): Conv2d(3, 64, kernel_size=(7, 7), stride=(2, 2), padding=(3, 3), bias=False)\n",
      "  (bn1): BatchNorm2d(64, eps=1e-05, momentum=0.1, affine=True, track_running_stats=True)\n",
      "  (relu): ReLU(inplace=True)\n",
      "  (maxpool): MaxPool2d(kernel_size=3, stride=2, padding=1, dilation=1, ceil_mode=False)\n",
      "  (layer1): Sequential(\n",
      "    (0): Bottleneck(\n",
      "      (conv1): Conv2d(64, 64, kernel_size=(1, 1), stride=(1, 1), bias=False)\n",
      "      (bn1): BatchNorm2d(64, eps=1e-05, momentum=0.1, affine=True, track_running_stats=True)\n",
      "      (conv2): Conv2d(64, 64, kernel_size=(3, 3), stride=(1, 1), padding=(1, 1), bias=False)\n",
      "      (bn2): BatchNorm2d(64, eps=1e-05, momentum=0.1, affine=True, track_running_stats=True)\n",
      "      (conv3): Conv2d(64, 256, kernel_size=(1, 1), stride=(1, 1), bias=False)\n",
      "      (bn3): BatchNorm2d(256, eps=1e-05, momentum=0.1, affine=True, track_running_stats=True)\n",
      "      (relu): ReLU(inplace=True)\n",
      "      (downsample): Sequential(\n",
      "        (0): Conv2d(64, 256, kernel_size=(1, 1), stride=(1, 1), bias=False)\n",
      "        (1): BatchNorm2d(256, eps=1e-05, momentum=0.1, affine=True, track_running_stats=True)\n",
      "      )\n",
      "    )\n",
      "    (1): Bottleneck(\n",
      "      (conv1): Conv2d(256, 64, kernel_size=(1, 1), stride=(1, 1), bias=False)\n",
      "      (bn1): BatchNorm2d(64, eps=1e-05, momentum=0.1, affine=True, track_running_stats=True)\n",
      "      (conv2): Conv2d(64, 64, kernel_size=(3, 3), stride=(1, 1), padding=(1, 1), bias=False)\n",
      "      (bn2): BatchNorm2d(64, eps=1e-05, momentum=0.1, affine=True, track_running_stats=True)\n",
      "      (conv3): Conv2d(64, 256, kernel_size=(1, 1), stride=(1, 1), bias=False)\n",
      "      (bn3): BatchNorm2d(256, eps=1e-05, momentum=0.1, affine=True, track_running_stats=True)\n",
      "      (relu): ReLU(inplace=True)\n",
      "    )\n",
      "    (2): Bottleneck(\n",
      "      (conv1): Conv2d(256, 64, kernel_size=(1, 1), stride=(1, 1), bias=False)\n",
      "      (bn1): BatchNorm2d(64, eps=1e-05, momentum=0.1, affine=True, track_running_stats=True)\n",
      "      (conv2): Conv2d(64, 64, kernel_size=(3, 3), stride=(1, 1), padding=(1, 1), bias=False)\n",
      "      (bn2): BatchNorm2d(64, eps=1e-05, momentum=0.1, affine=True, track_running_stats=True)\n",
      "      (conv3): Conv2d(64, 256, kernel_size=(1, 1), stride=(1, 1), bias=False)\n",
      "      (bn3): BatchNorm2d(256, eps=1e-05, momentum=0.1, affine=True, track_running_stats=True)\n",
      "      (relu): ReLU(inplace=True)\n",
      "    )\n",
      "  )\n",
      "  (layer2): Sequential(\n",
      "    (0): Bottleneck(\n",
      "      (conv1): Conv2d(256, 128, kernel_size=(1, 1), stride=(1, 1), bias=False)\n",
      "      (bn1): BatchNorm2d(128, eps=1e-05, momentum=0.1, affine=True, track_running_stats=True)\n",
      "      (conv2): Conv2d(128, 128, kernel_size=(3, 3), stride=(2, 2), padding=(1, 1), bias=False)\n",
      "      (bn2): BatchNorm2d(128, eps=1e-05, momentum=0.1, affine=True, track_running_stats=True)\n",
      "      (conv3): Conv2d(128, 512, kernel_size=(1, 1), stride=(1, 1), bias=False)\n",
      "      (bn3): BatchNorm2d(512, eps=1e-05, momentum=0.1, affine=True, track_running_stats=True)\n",
      "      (relu): ReLU(inplace=True)\n",
      "      (downsample): Sequential(\n",
      "        (0): Conv2d(256, 512, kernel_size=(1, 1), stride=(2, 2), bias=False)\n",
      "        (1): BatchNorm2d(512, eps=1e-05, momentum=0.1, affine=True, track_running_stats=True)\n",
      "      )\n",
      "    )\n",
      "    (1): Bottleneck(\n",
      "      (conv1): Conv2d(512, 128, kernel_size=(1, 1), stride=(1, 1), bias=False)\n",
      "      (bn1): BatchNorm2d(128, eps=1e-05, momentum=0.1, affine=True, track_running_stats=True)\n",
      "      (conv2): Conv2d(128, 128, kernel_size=(3, 3), stride=(1, 1), padding=(1, 1), bias=False)\n",
      "      (bn2): BatchNorm2d(128, eps=1e-05, momentum=0.1, affine=True, track_running_stats=True)\n",
      "      (conv3): Conv2d(128, 512, kernel_size=(1, 1), stride=(1, 1), bias=False)\n",
      "      (bn3): BatchNorm2d(512, eps=1e-05, momentum=0.1, affine=True, track_running_stats=True)\n",
      "      (relu): ReLU(inplace=True)\n",
      "    )\n",
      "    (2): Bottleneck(\n",
      "      (conv1): Conv2d(512, 128, kernel_size=(1, 1), stride=(1, 1), bias=False)\n",
      "      (bn1): BatchNorm2d(128, eps=1e-05, momentum=0.1, affine=True, track_running_stats=True)\n",
      "      (conv2): Conv2d(128, 128, kernel_size=(3, 3), stride=(1, 1), padding=(1, 1), bias=False)\n",
      "      (bn2): BatchNorm2d(128, eps=1e-05, momentum=0.1, affine=True, track_running_stats=True)\n",
      "      (conv3): Conv2d(128, 512, kernel_size=(1, 1), stride=(1, 1), bias=False)\n",
      "      (bn3): BatchNorm2d(512, eps=1e-05, momentum=0.1, affine=True, track_running_stats=True)\n",
      "      (relu): ReLU(inplace=True)\n",
      "    )\n",
      "    (3): Bottleneck(\n",
      "      (conv1): Conv2d(512, 128, kernel_size=(1, 1), stride=(1, 1), bias=False)\n",
      "      (bn1): BatchNorm2d(128, eps=1e-05, momentum=0.1, affine=True, track_running_stats=True)\n",
      "      (conv2): Conv2d(128, 128, kernel_size=(3, 3), stride=(1, 1), padding=(1, 1), bias=False)\n",
      "      (bn2): BatchNorm2d(128, eps=1e-05, momentum=0.1, affine=True, track_running_stats=True)\n",
      "      (conv3): Conv2d(128, 512, kernel_size=(1, 1), stride=(1, 1), bias=False)\n",
      "      (bn3): BatchNorm2d(512, eps=1e-05, momentum=0.1, affine=True, track_running_stats=True)\n",
      "      (relu): ReLU(inplace=True)\n",
      "    )\n",
      "  )\n",
      "  (layer3): Sequential(\n",
      "    (0): Bottleneck(\n",
      "      (conv1): Conv2d(512, 256, kernel_size=(1, 1), stride=(1, 1), bias=False)\n",
      "      (bn1): BatchNorm2d(256, eps=1e-05, momentum=0.1, affine=True, track_running_stats=True)\n",
      "      (conv2): Conv2d(256, 256, kernel_size=(3, 3), stride=(2, 2), padding=(1, 1), bias=False)\n",
      "      (bn2): BatchNorm2d(256, eps=1e-05, momentum=0.1, affine=True, track_running_stats=True)\n",
      "      (conv3): Conv2d(256, 1024, kernel_size=(1, 1), stride=(1, 1), bias=False)\n",
      "      (bn3): BatchNorm2d(1024, eps=1e-05, momentum=0.1, affine=True, track_running_stats=True)\n",
      "      (relu): ReLU(inplace=True)\n",
      "      (downsample): Sequential(\n",
      "        (0): Conv2d(512, 1024, kernel_size=(1, 1), stride=(2, 2), bias=False)\n",
      "        (1): BatchNorm2d(1024, eps=1e-05, momentum=0.1, affine=True, track_running_stats=True)\n",
      "      )\n",
      "    )\n",
      "    (1): Bottleneck(\n",
      "      (conv1): Conv2d(1024, 256, kernel_size=(1, 1), stride=(1, 1), bias=False)\n",
      "      (bn1): BatchNorm2d(256, eps=1e-05, momentum=0.1, affine=True, track_running_stats=True)\n",
      "      (conv2): Conv2d(256, 256, kernel_size=(3, 3), stride=(1, 1), padding=(1, 1), bias=False)\n",
      "      (bn2): BatchNorm2d(256, eps=1e-05, momentum=0.1, affine=True, track_running_stats=True)\n",
      "      (conv3): Conv2d(256, 1024, kernel_size=(1, 1), stride=(1, 1), bias=False)\n",
      "      (bn3): BatchNorm2d(1024, eps=1e-05, momentum=0.1, affine=True, track_running_stats=True)\n",
      "      (relu): ReLU(inplace=True)\n",
      "    )\n",
      "    (2): Bottleneck(\n",
      "      (conv1): Conv2d(1024, 256, kernel_size=(1, 1), stride=(1, 1), bias=False)\n",
      "      (bn1): BatchNorm2d(256, eps=1e-05, momentum=0.1, affine=True, track_running_stats=True)\n",
      "      (conv2): Conv2d(256, 256, kernel_size=(3, 3), stride=(1, 1), padding=(1, 1), bias=False)\n",
      "      (bn2): BatchNorm2d(256, eps=1e-05, momentum=0.1, affine=True, track_running_stats=True)\n",
      "      (conv3): Conv2d(256, 1024, kernel_size=(1, 1), stride=(1, 1), bias=False)\n",
      "      (bn3): BatchNorm2d(1024, eps=1e-05, momentum=0.1, affine=True, track_running_stats=True)\n",
      "      (relu): ReLU(inplace=True)\n",
      "    )\n",
      "    (3): Bottleneck(\n",
      "      (conv1): Conv2d(1024, 256, kernel_size=(1, 1), stride=(1, 1), bias=False)\n",
      "      (bn1): BatchNorm2d(256, eps=1e-05, momentum=0.1, affine=True, track_running_stats=True)\n",
      "      (conv2): Conv2d(256, 256, kernel_size=(3, 3), stride=(1, 1), padding=(1, 1), bias=False)\n",
      "      (bn2): BatchNorm2d(256, eps=1e-05, momentum=0.1, affine=True, track_running_stats=True)\n",
      "      (conv3): Conv2d(256, 1024, kernel_size=(1, 1), stride=(1, 1), bias=False)\n",
      "      (bn3): BatchNorm2d(1024, eps=1e-05, momentum=0.1, affine=True, track_running_stats=True)\n",
      "      (relu): ReLU(inplace=True)\n",
      "    )\n",
      "    (4): Bottleneck(\n",
      "      (conv1): Conv2d(1024, 256, kernel_size=(1, 1), stride=(1, 1), bias=False)\n",
      "      (bn1): BatchNorm2d(256, eps=1e-05, momentum=0.1, affine=True, track_running_stats=True)\n",
      "      (conv2): Conv2d(256, 256, kernel_size=(3, 3), stride=(1, 1), padding=(1, 1), bias=False)\n",
      "      (bn2): BatchNorm2d(256, eps=1e-05, momentum=0.1, affine=True, track_running_stats=True)\n",
      "      (conv3): Conv2d(256, 1024, kernel_size=(1, 1), stride=(1, 1), bias=False)\n",
      "      (bn3): BatchNorm2d(1024, eps=1e-05, momentum=0.1, affine=True, track_running_stats=True)\n",
      "      (relu): ReLU(inplace=True)\n",
      "    )\n",
      "    (5): Bottleneck(\n",
      "      (conv1): Conv2d(1024, 256, kernel_size=(1, 1), stride=(1, 1), bias=False)\n",
      "      (bn1): BatchNorm2d(256, eps=1e-05, momentum=0.1, affine=True, track_running_stats=True)\n",
      "      (conv2): Conv2d(256, 256, kernel_size=(3, 3), stride=(1, 1), padding=(1, 1), bias=False)\n",
      "      (bn2): BatchNorm2d(256, eps=1e-05, momentum=0.1, affine=True, track_running_stats=True)\n",
      "      (conv3): Conv2d(256, 1024, kernel_size=(1, 1), stride=(1, 1), bias=False)\n",
      "      (bn3): BatchNorm2d(1024, eps=1e-05, momentum=0.1, affine=True, track_running_stats=True)\n",
      "      (relu): ReLU(inplace=True)\n",
      "    )\n",
      "  )\n",
      "  (layer4): Sequential(\n",
      "    (0): Bottleneck(\n",
      "      (conv1): Conv2d(1024, 512, kernel_size=(1, 1), stride=(1, 1), bias=False)\n",
      "      (bn1): BatchNorm2d(512, eps=1e-05, momentum=0.1, affine=True, track_running_stats=True)\n",
      "      (conv2): Conv2d(512, 512, kernel_size=(3, 3), stride=(2, 2), padding=(1, 1), bias=False)\n",
      "      (bn2): BatchNorm2d(512, eps=1e-05, momentum=0.1, affine=True, track_running_stats=True)\n",
      "      (conv3): Conv2d(512, 2048, kernel_size=(1, 1), stride=(1, 1), bias=False)\n",
      "      (bn3): BatchNorm2d(2048, eps=1e-05, momentum=0.1, affine=True, track_running_stats=True)\n",
      "      (relu): ReLU(inplace=True)\n",
      "      (downsample): Sequential(\n",
      "        (0): Conv2d(1024, 2048, kernel_size=(1, 1), stride=(2, 2), bias=False)\n",
      "        (1): BatchNorm2d(2048, eps=1e-05, momentum=0.1, affine=True, track_running_stats=True)\n",
      "      )\n",
      "    )\n",
      "    (1): Bottleneck(\n",
      "      (conv1): Conv2d(2048, 512, kernel_size=(1, 1), stride=(1, 1), bias=False)\n",
      "      (bn1): BatchNorm2d(512, eps=1e-05, momentum=0.1, affine=True, track_running_stats=True)\n",
      "      (conv2): Conv2d(512, 512, kernel_size=(3, 3), stride=(1, 1), padding=(1, 1), bias=False)\n",
      "      (bn2): BatchNorm2d(512, eps=1e-05, momentum=0.1, affine=True, track_running_stats=True)\n",
      "      (conv3): Conv2d(512, 2048, kernel_size=(1, 1), stride=(1, 1), bias=False)\n",
      "      (bn3): BatchNorm2d(2048, eps=1e-05, momentum=0.1, affine=True, track_running_stats=True)\n",
      "      (relu): ReLU(inplace=True)\n",
      "    )\n",
      "    (2): Bottleneck(\n",
      "      (conv1): Conv2d(2048, 512, kernel_size=(1, 1), stride=(1, 1), bias=False)\n",
      "      (bn1): BatchNorm2d(512, eps=1e-05, momentum=0.1, affine=True, track_running_stats=True)\n",
      "      (conv2): Conv2d(512, 512, kernel_size=(3, 3), stride=(1, 1), padding=(1, 1), bias=False)\n",
      "      (bn2): BatchNorm2d(512, eps=1e-05, momentum=0.1, affine=True, track_running_stats=True)\n",
      "      (conv3): Conv2d(512, 2048, kernel_size=(1, 1), stride=(1, 1), bias=False)\n",
      "      (bn3): BatchNorm2d(2048, eps=1e-05, momentum=0.1, affine=True, track_running_stats=True)\n",
      "      (relu): ReLU(inplace=True)\n",
      "    )\n",
      "  )\n",
      "  (avgpool): AdaptiveAvgPool2d(output_size=(1, 1))\n",
      "  (fc): Linear(in_features=2048, out_features=3, bias=True)\n",
      ")\n"
     ]
    }
   ],
   "source": [
    "# [3] Model Definition\n",
    "# Load pretrained ResNet50\n",
    "model = models.resnet50(pretrained=True)\n",
    "\n",
    "# Freeze all layers\n",
    "for param in model.parameters():\n",
    "    param.requires_grad = False\n",
    "\n",
    "# Replace the final fully connected layer\n",
    "num_ftrs = model.fc.in_features\n",
    "model.fc = nn.Linear(num_ftrs, 3)\n",
    "\n",
    "model = model.to(device)\n",
    "print(model)"
   ]
  },
  {
   "cell_type": "code",
   "execution_count": 17,
   "id": "e480a64f",
   "metadata": {
    "ExecuteTime": {
     "end_time": "2025-09-13T12:35:32.946510Z",
     "start_time": "2025-09-13T12:22:09.408421Z"
    }
   },
   "outputs": [
    {
     "name": "stdout",
     "output_type": "stream",
     "text": [
      "Epoch 1/100 - Train Loss: 0.1562 - Train Acc: 0.9528\n",
      "Epoch 2/100 - Train Loss: 0.1570 - Train Acc: 0.9528\n",
      "Epoch 3/100 - Train Loss: 0.1583 - Train Acc: 0.9542\n",
      "Epoch 4/100 - Train Loss: 0.1581 - Train Acc: 0.9542\n",
      "Epoch 5/100 - Train Loss: 0.1442 - Train Acc: 0.9583\n",
      "Epoch 6/100 - Train Loss: 0.1541 - Train Acc: 0.9528\n",
      "Epoch 7/100 - Train Loss: 0.1640 - Train Acc: 0.9528\n",
      "Epoch 8/100 - Train Loss: 0.1429 - Train Acc: 0.9583\n",
      "Epoch 9/100 - Train Loss: 0.1709 - Train Acc: 0.9472\n",
      "Epoch 10/100 - Train Loss: 0.1587 - Train Acc: 0.9556\n",
      "Epoch 11/100 - Train Loss: 0.1469 - Train Acc: 0.9556\n",
      "Epoch 12/100 - Train Loss: 0.1523 - Train Acc: 0.9500\n",
      "Epoch 13/100 - Train Loss: 0.1765 - Train Acc: 0.9319\n",
      "Epoch 14/100 - Train Loss: 0.1466 - Train Acc: 0.9583\n",
      "Epoch 15/100 - Train Loss: 0.1347 - Train Acc: 0.9611\n",
      "Epoch 16/100 - Train Loss: 0.1520 - Train Acc: 0.9528\n",
      "Epoch 17/100 - Train Loss: 0.1478 - Train Acc: 0.9444\n",
      "Epoch 18/100 - Train Loss: 0.1372 - Train Acc: 0.9653\n",
      "Epoch 19/100 - Train Loss: 0.1437 - Train Acc: 0.9556\n",
      "Epoch 20/100 - Train Loss: 0.1764 - Train Acc: 0.9458\n",
      "Epoch 21/100 - Train Loss: 0.1490 - Train Acc: 0.9625\n",
      "Epoch 22/100 - Train Loss: 0.1397 - Train Acc: 0.9625\n",
      "Epoch 23/100 - Train Loss: 0.1553 - Train Acc: 0.9542\n",
      "Epoch 24/100 - Train Loss: 0.1500 - Train Acc: 0.9500\n",
      "Epoch 25/100 - Train Loss: 0.1480 - Train Acc: 0.9514\n",
      "Epoch 26/100 - Train Loss: 0.1515 - Train Acc: 0.9542\n",
      "Epoch 27/100 - Train Loss: 0.1531 - Train Acc: 0.9472\n",
      "Epoch 28/100 - Train Loss: 0.1365 - Train Acc: 0.9597\n",
      "Epoch 29/100 - Train Loss: 0.1395 - Train Acc: 0.9528\n",
      "Epoch 30/100 - Train Loss: 0.1737 - Train Acc: 0.9444\n",
      "Epoch 31/100 - Train Loss: 0.1421 - Train Acc: 0.9639\n",
      "Epoch 32/100 - Train Loss: 0.1533 - Train Acc: 0.9472\n",
      "Epoch 33/100 - Train Loss: 0.1446 - Train Acc: 0.9556\n",
      "Epoch 34/100 - Train Loss: 0.1476 - Train Acc: 0.9556\n",
      "Epoch 35/100 - Train Loss: 0.1356 - Train Acc: 0.9625\n",
      "Epoch 36/100 - Train Loss: 0.1450 - Train Acc: 0.9597\n",
      "Epoch 37/100 - Train Loss: 0.1487 - Train Acc: 0.9583\n",
      "Epoch 38/100 - Train Loss: 0.1480 - Train Acc: 0.9556\n",
      "Epoch 39/100 - Train Loss: 0.1444 - Train Acc: 0.9653\n",
      "Epoch 40/100 - Train Loss: 0.1381 - Train Acc: 0.9667\n",
      "Epoch 41/100 - Train Loss: 0.1445 - Train Acc: 0.9528\n",
      "Epoch 42/100 - Train Loss: 0.1360 - Train Acc: 0.9625\n",
      "Epoch 43/100 - Train Loss: 0.1487 - Train Acc: 0.9611\n",
      "Epoch 44/100 - Train Loss: 0.1343 - Train Acc: 0.9569\n",
      "Epoch 45/100 - Train Loss: 0.1398 - Train Acc: 0.9597\n",
      "Epoch 46/100 - Train Loss: 0.1411 - Train Acc: 0.9542\n",
      "Epoch 47/100 - Train Loss: 0.1450 - Train Acc: 0.9611\n",
      "Epoch 48/100 - Train Loss: 0.1594 - Train Acc: 0.9542\n",
      "Epoch 49/100 - Train Loss: 0.1403 - Train Acc: 0.9583\n",
      "Epoch 50/100 - Train Loss: 0.1509 - Train Acc: 0.9583\n",
      "Epoch 51/100 - Train Loss: 0.1587 - Train Acc: 0.9528\n",
      "Epoch 52/100 - Train Loss: 0.1307 - Train Acc: 0.9653\n",
      "Epoch 53/100 - Train Loss: 0.1426 - Train Acc: 0.9611\n",
      "Epoch 54/100 - Train Loss: 0.1447 - Train Acc: 0.9583\n",
      "Epoch 55/100 - Train Loss: 0.1432 - Train Acc: 0.9500\n",
      "Epoch 56/100 - Train Loss: 0.1404 - Train Acc: 0.9583\n",
      "Epoch 57/100 - Train Loss: 0.1460 - Train Acc: 0.9569\n",
      "Epoch 58/100 - Train Loss: 0.1384 - Train Acc: 0.9611\n",
      "Epoch 59/100 - Train Loss: 0.1449 - Train Acc: 0.9528\n",
      "Epoch 60/100 - Train Loss: 0.1417 - Train Acc: 0.9639\n",
      "Epoch 61/100 - Train Loss: 0.1294 - Train Acc: 0.9639\n",
      "Epoch 62/100 - Train Loss: 0.1427 - Train Acc: 0.9639\n",
      "Epoch 63/100 - Train Loss: 0.1263 - Train Acc: 0.9625\n",
      "Epoch 64/100 - Train Loss: 0.1587 - Train Acc: 0.9472\n",
      "Epoch 65/100 - Train Loss: 0.1576 - Train Acc: 0.9569\n",
      "Epoch 66/100 - Train Loss: 0.1476 - Train Acc: 0.9611\n",
      "Epoch 67/100 - Train Loss: 0.1511 - Train Acc: 0.9431\n",
      "Epoch 68/100 - Train Loss: 0.1476 - Train Acc: 0.9569\n",
      "Epoch 69/100 - Train Loss: 0.1180 - Train Acc: 0.9708\n",
      "Epoch 70/100 - Train Loss: 0.1368 - Train Acc: 0.9556\n",
      "Epoch 71/100 - Train Loss: 0.1497 - Train Acc: 0.9542\n",
      "Epoch 72/100 - Train Loss: 0.1366 - Train Acc: 0.9542\n",
      "Epoch 73/100 - Train Loss: 0.1506 - Train Acc: 0.9431\n",
      "Epoch 74/100 - Train Loss: 0.1371 - Train Acc: 0.9486\n",
      "Epoch 75/100 - Train Loss: 0.1487 - Train Acc: 0.9486\n",
      "Epoch 76/100 - Train Loss: 0.1290 - Train Acc: 0.9694\n",
      "Epoch 77/100 - Train Loss: 0.1427 - Train Acc: 0.9556\n",
      "Epoch 78/100 - Train Loss: 0.1460 - Train Acc: 0.9542\n",
      "Epoch 79/100 - Train Loss: 0.1311 - Train Acc: 0.9653\n",
      "Epoch 80/100 - Train Loss: 0.1436 - Train Acc: 0.9569\n",
      "Epoch 81/100 - Train Loss: 0.1482 - Train Acc: 0.9569\n",
      "Epoch 82/100 - Train Loss: 0.1408 - Train Acc: 0.9639\n",
      "Epoch 83/100 - Train Loss: 0.1164 - Train Acc: 0.9708\n",
      "Epoch 84/100 - Train Loss: 0.1417 - Train Acc: 0.9556\n",
      "Epoch 85/100 - Train Loss: 0.1345 - Train Acc: 0.9569\n",
      "Epoch 86/100 - Train Loss: 0.1355 - Train Acc: 0.9611\n",
      "Epoch 87/100 - Train Loss: 0.1284 - Train Acc: 0.9625\n",
      "Epoch 88/100 - Train Loss: 0.1181 - Train Acc: 0.9708\n",
      "Epoch 89/100 - Train Loss: 0.1410 - Train Acc: 0.9569\n",
      "Epoch 90/100 - Train Loss: 0.1239 - Train Acc: 0.9694\n",
      "Epoch 91/100 - Train Loss: 0.1529 - Train Acc: 0.9597\n",
      "Epoch 92/100 - Train Loss: 0.1330 - Train Acc: 0.9639\n",
      "Epoch 93/100 - Train Loss: 0.1222 - Train Acc: 0.9611\n",
      "Epoch 94/100 - Train Loss: 0.1171 - Train Acc: 0.9778\n",
      "Epoch 95/100 - Train Loss: 0.1231 - Train Acc: 0.9639\n",
      "Epoch 96/100 - Train Loss: 0.1300 - Train Acc: 0.9639\n",
      "Epoch 97/100 - Train Loss: 0.1409 - Train Acc: 0.9542\n",
      "Epoch 98/100 - Train Loss: 0.1502 - Train Acc: 0.9431\n",
      "Epoch 99/100 - Train Loss: 0.1370 - Train Acc: 0.9528\n",
      "Epoch 100/100 - Train Loss: 0.1259 - Train Acc: 0.9542\n"
     ]
    }
   ],
   "source": [
    "# [4] Training Loop\n",
    "criterion = nn.CrossEntropyLoss()\n",
    "optimizer = optim.Adam(model.fc.parameters(), lr=5e-5)\n",
    "num_epochs = 100\n",
    "\n",
    "train_losses = []\n",
    "train_accuracies = []\n",
    "val_losses = []\n",
    "val_accuracies = []\n",
    "\n",
    "for epoch in range(num_epochs):\n",
    "    model.train()\n",
    "    running_loss = 0.0\n",
    "    running_corrects = 0\n",
    "    total = 0\n",
    "    for inputs, labels in train_loader:\n",
    "        inputs, labels = inputs.to(device), labels.to(device)\n",
    "        optimizer.zero_grad()\n",
    "        outputs = model(inputs)\n",
    "        loss = criterion(outputs, labels)\n",
    "        loss.backward()\n",
    "        optimizer.step()\n",
    "        _, preds = torch.max(outputs, 1)\n",
    "        running_loss += loss.item() * inputs.size(0)\n",
    "        running_corrects += torch.sum(preds == labels.data)\n",
    "        total += labels.size(0)\n",
    "    epoch_loss = running_loss / total\n",
    "    epoch_acc = running_corrects.double() / total\n",
    "    train_losses.append(epoch_loss)\n",
    "    train_accuracies.append(epoch_acc.item())\n",
    "    print(f'Epoch {epoch+1}/{num_epochs} - Train Loss: {epoch_loss:.4f} - Train Acc: {epoch_acc:.4f}')"
   ]
  },
  {
   "cell_type": "code",
   "execution_count": 18,
   "id": "8772b813",
   "metadata": {
    "ExecuteTime": {
     "end_time": "2025-09-13T12:35:41.487262Z",
     "start_time": "2025-09-13T12:35:37.069360Z"
    }
   },
   "outputs": [
    {
     "name": "stdout",
     "output_type": "stream",
     "text": [
      "Epoch 100/100 - Val Loss: 0.1847 - Val Acc: 0.9167\n"
     ]
    }
   ],
   "source": [
    "# [5] Validation\n",
    "# Validation after each epoch\n",
    "model.eval()\n",
    "val_running_loss = 0.0\n",
    "val_running_corrects = 0\n",
    "val_total = 0\n",
    "with torch.no_grad():\n",
    "    for inputs, labels in val_loader:\n",
    "        inputs, labels = inputs.to(device), labels.to(device)\n",
    "        outputs = model(inputs)\n",
    "        loss = criterion(outputs, labels)\n",
    "        _, preds = torch.max(outputs, 1)\n",
    "        val_running_loss += loss.item() * inputs.size(0)\n",
    "        val_running_corrects += torch.sum(preds == labels.data)\n",
    "        val_total += labels.size(0)\n",
    "val_epoch_loss = val_running_loss / val_total\n",
    "val_epoch_acc = val_running_corrects.double() / val_total\n",
    "val_losses.append(val_epoch_loss)\n",
    "val_accuracies.append(val_epoch_acc.item())\n",
    "print(f'Epoch {epoch+1}/{num_epochs} - Val Loss: {val_epoch_loss:.4f} - Val Acc: {val_epoch_acc:.4f}')"
   ]
  },
  {
   "cell_type": "code",
   "execution_count": 21,
   "id": "0f4231a5",
   "metadata": {
    "ExecuteTime": {
     "end_time": "2025-09-13T12:36:06.193063Z",
     "start_time": "2025-09-13T12:36:06.023194Z"
    }
   },
   "outputs": [
    {
     "name": "stdout",
     "output_type": "stream",
     "text": [
      "Model saved to cattle_cnn.pth\n"
     ]
    }
   ],
   "source": [
    "# [6] Save Model\n",
    "model_path = 'cattle_cnn.pth'\n",
    "torch.save(model.state_dict(), model_path)\n",
    "print(f'Model saved to {model_path}')"
   ]
  },
  {
   "cell_type": "code",
   "execution_count": 24,
   "id": "a202c23b",
   "metadata": {
    "ExecuteTime": {
     "end_time": "2025-09-13T13:46:52.571339Z",
     "start_time": "2025-09-13T13:46:52.560923Z"
    }
   },
   "outputs": [],
   "source": [
    "# [7] Inference on single image\n",
    "def predict_image(image_path, model, class_names, device):\n",
    "    model.eval()\n",
    "    img = Image.open(image_path).convert('RGB')\n",
    "    transform = transforms.Compose([\n",
    "        transforms.Resize((224, 224)),\n",
    "        transforms.ToTensor(),\n",
    "        transforms.Normalize(mean=imagenet_mean, std=imagenet_std)\n",
    "    ])\n",
    "    img_tensor = transform(img).unsqueeze(0).to(device)\n",
    "    with torch.no_grad():\n",
    "        outputs = model(img_tensor)\n",
    "        probs = torch.softmax(outputs, dim=1)\n",
    "        conf, pred = torch.max(probs, 1)\n",
    "    print(f'Predicted: {class_names[pred.item()]} (Confidence: {conf.item()*100:.2f}%)')\n",
    "    return class_names[pred.item()], conf.item()\n",
    "\n",
    "# Example usage:\n",
    "# predict_image('test.jpg', model, class_names, device)"
   ]
  },
  {
   "cell_type": "code",
   "execution_count": 25,
   "id": "fcbb0691",
   "metadata": {
    "ExecuteTime": {
     "end_time": "2025-09-13T13:47:09.849755Z",
     "start_time": "2025-09-13T13:47:03.916539Z"
    }
   },
   "outputs": [
    {
     "data": {
      "image/png": "[encoded data removed]",
      "text/plain": [
       "<Figure size 600x600 with 2 Axes>"
      ]
     },
     "metadata": {},
     "output_type": "display_data"
    }
   ],
   "source": [
    "# [8] Confusion Matrix Visualization\n",
    "from sklearn.metrics import confusion_matrix, ConfusionMatrixDisplay\n",
    "\n",
    "y_true = []\n",
    "y_pred = []\n",
    "model.eval()\n",
    "with torch.no_grad():\n",
    "    for inputs, labels in val_loader:\n",
    "        inputs = inputs.to(device)\n",
    "        outputs = model(inputs)\n",
    "        _, preds = torch.max(outputs, 1)\n",
    "        y_true.extend(labels.cpu().numpy())\n",
    "        y_pred.extend(preds.cpu().numpy())\n",
    "\n",
    "cm = confusion_matrix(y_true, y_pred)\n",
    "disp = ConfusionMatrixDisplay(confusion_matrix=cm, display_labels=class_names)\n",
    "fig, ax = plt.subplots(figsize=(6,6))\n",
    "disp.plot(ax=ax, cmap='Blues', values_format='d')\n",
    "plt.title('Confusion Matrix')\n",
    "plt.show()"
   ]
  },
  {
   "cell_type": "code",
   "execution_count": 26,
   "id": "7ca8c7778cb549f7",
   "metadata": {
    "ExecuteTime": {
     "end_time": "2025-09-13T13:47:19.808536Z",
     "start_time": "2025-09-13T13:47:14.829573Z"
    }
   },
   "outputs": [
    {
     "data": {
      "image/png": "[encoded data removed]",
      "text/plain": [
       "<Figure size 600x600 with 2 Axes>"
      ]
     },
     "metadata": {},
     "output_type": "display_data"
    },
    {
     "name": "stdout",
     "output_type": "stream",
     "text": [
      "Accuracy: 0.9167\n",
      "F1 Score: 0.9174\n"
     ]
    }
   ],
   "source": [
    "from sklearn.metrics import confusion_matrix, ConfusionMatrixDisplay, accuracy_score, f1_score\n",
    "\n",
    "y_true = []\n",
    "y_pred = []\n",
    "model.eval()\n",
    "with torch.no_grad():\n",
    "    for inputs, labels in val_loader:\n",
    "        inputs = inputs.to(device)\n",
    "        outputs = model(inputs)\n",
    "        _, preds = torch.max(outputs, 1)\n",
    "        y_true.extend(labels.cpu().numpy())\n",
    "        y_pred.extend(preds.cpu().numpy())\n",
    "\n",
    "# Confusion Matrix\n",
    "cm = confusion_matrix(y_true, y_pred)\n",
    "disp = ConfusionMatrixDisplay(confusion_matrix=cm, display_labels=class_names)\n",
    "fig, ax = plt.subplots(figsize=(6,6))\n",
    "disp.plot(ax=ax, cmap='Blues', values_format='d')\n",
    "plt.title('Confusion Matrix')\n",
    "plt.show()\n",
    "\n",
    "# Accuracy and F1 Score\n",
    "accuracy = accuracy_score(y_true, y_pred)\n",
    "f1 = f1_score(y_true, y_pred, average='weighted')  # use 'macro' if classes are balanced\n",
    "\n",
    "print(f\"Accuracy: {accuracy:.4f}\")\n",
    "print(f\"F1 Score: {f1:.4f}\")"
   ]
  },
  {
   "cell_type": "code",
   "execution_count": null,
   "id": "73b3f4aa",
   "metadata": {},
   "outputs": [
    {
     "name": "stderr",
     "output_type": "stream",
     "text": [
      "Using cache found in C:\\Users\\admin/.cache\\torch\\hub\\pytorch_vision_main\n"
     ]
    },
    {
     "name": "stdout",
     "output_type": "stream",
     "text": [
      "001_26_IMG_antibioticcow_creditHenkRiswick_beeldbank-848x565.jpg: healthy\n",
      "How-to-prevent-mastitis-in-dairy-cows.jpg: healthy\n",
      "images.jpeg: healthy\n",
      "lead5_lumpy_skin_cattle.jpg: lsd\n"
     ]
    }
   ],
   "source": [
    "# [10] Batch Predict All Test Images Using Trained Model\n",
    "import os\n",
    "import glob\n",
    "from PIL import Image\n",
    "from torchvision import transforms\n",
    "import torch\n",
    "\n",
    "# 1. Load model architecture and weights\n",
    "model = torch.hub.load('pytorch/vision', 'resnet50', pretrained=False)\n",
    "num_ftrs = model.fc.in_features\n",
    "model.fc = torch.nn.Linear(num_ftrs, 3)  # 3 classes: Mastitis, LSD, Healthy\n",
    "model_path = os.path.join('..', 'Model', 'cattle_cnn.pth')\n",
    "model.load_state_dict(torch.load(model_path, map_location=torch.device('cpu')))\n",
    "model.eval()\n",
    "\n",
    "# 2. Define transform (must match training)\n",
    "imagenet_mean = [0.485, 0.456, 0.406]\n",
    "imagenet_std = [0.229, 0.224, 0.225]\n",
    "transform = transforms.Compose([\n",
    "    transforms.Resize((224, 224)),\n",
    "    transforms.ToTensor(),\n",
    "    transforms.Normalize(mean=imagenet_mean, std=imagenet_std)\n",
    " ])\n",
    "\n",
    "# 3. Predict all test images (recursively, all images in subfolders)\n",
    "test_folder = '../Disease Data/test'\n",
    "image_paths = glob.glob(os.path.join(test_folder, '**', '*.*'), recursive=True)\n",
    "class_names = ['healthy', 'lsd', 'mastitis']  # Update if needed\n",
    "results = []\n",
    "\n",
    "for img_path in image_paths:\n",
    "    if not img_path.lower().endswith(('.jpg', '.jpeg', '.png', '.bmp', '.gif')):\n",
    "        continue\n",
    "    try:\n",
    "        img = Image.open(img_path).convert('RGB')\n",
    "        input_tensor = transform(img).unsqueeze(0)\n",
    "        with torch.no_grad():\n",
    "            output = model(input_tensor)\n",
    "            predicted_class = torch.argmax(output, dim=1).item()\n",
    "            disease_name = class_names[predicted_class]\n",
    "        results.append((os.path.relpath(img_path, test_folder), disease_name))\n",
    "    except Exception as e:\n",
    "        results.append((os.path.relpath(img_path, test_folder), f'Error: {e}'))\n",
    "\n",
    "for fname, pred in results:\n",
    "    print(f'{fname}: {pred}')"
   ]
  }
 ],
 "metadata": {
  "kernelspec": {
   "display_name": "Python 3",
   "language": "python",
   "name": "python3"
  },
  "language_info": {
   "codemirror_mode": {
    "name": "ipython",
    "version": 3
   },
   "file_extension": ".py",
   "mimetype": "text/x-python",
   "name": "python",
   "nbconvert_exporter": "python",
   "pygments_lexer": "ipython3",
   "version": "3.11.9"
  }
 },
 "nbformat": 4,
 "nbformat_minor": 5
}
